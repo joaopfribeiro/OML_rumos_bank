{
 "cells": [
  {
   "cell_type": "markdown",
   "metadata": {},
   "source": [
    "## Registar um pipeline no mlflow"
   ]
  },
  {
   "cell_type": "code",
   "execution_count": 1,
   "metadata": {},
   "outputs": [],
   "source": [
    "import mlflow\n",
    "import pandas as pd\n",
    "import numpy as np\n",
    "\n",
    "from sklearn.pipeline import Pipeline\n",
    "from sklearn.metrics import  precision_recall_curve, roc_auc_score, confusion_matrix, accuracy_score, recall_score, precision_score, f1_score,auc, roc_curve\n",
    "from sklearn.model_selection import train_test_split\n",
    "from sklearn.preprocessing import MinMaxScaler\n",
    "from sklearn.model_selection import GridSearchCV\n",
    "from sklearn.ensemble import RandomForestClassifier\n",
    "from sklearn.linear_model import LogisticRegression\n",
    "from sklearn.neighbors import KNeighborsClassifier\n",
    "from sklearn.svm import SVC\n",
    "from sklearn import tree\n",
    "from sklearn.linear_model import Perceptron\n",
    "from sklearn.neural_network import MLPClassifier\n",
    "\n"
   ]
  },
  {
   "cell_type": "code",
   "execution_count": 2,
   "metadata": {},
   "outputs": [],
   "source": [
    "root_path = '../data/'\n",
    "seed = 42\n",
    "target_col = \"default.payment.next.month\""
   ]
  },
  {
   "cell_type": "markdown",
   "metadata": {},
   "source": [
    "## Definir a diretoria onde as experiências são guardadas"
   ]
  },
  {
   "cell_type": "code",
   "execution_count": 3,
   "metadata": {},
   "outputs": [],
   "source": [
    "from pathlib import Path\n",
    "\n",
    "uri = \"http://127.0.0.1:5000\"\n",
    "\n",
    "mlflow.set_tracking_uri(uri)"
   ]
  },
  {
   "cell_type": "markdown",
   "metadata": {},
   "source": [
    "## Fazer set da experiência"
   ]
  },
  {
   "cell_type": "code",
   "execution_count": 4,
   "metadata": {},
   "outputs": [
    {
     "name": "stderr",
     "output_type": "stream",
     "text": [
      "2025/03/25 23:07:53 INFO mlflow.tracking.fluent: Experiment with name 'Lending Prediction Experiment' does not exist. Creating a new experiment.\n"
     ]
    },
    {
     "data": {
      "text/plain": [
       "<Experiment: artifact_location='mlflow-artifacts:/448265258201631582', creation_time=1742944073896, experiment_id='448265258201631582', last_update_time=1742944073896, lifecycle_stage='active', name='Lending Prediction Experiment', tags={}>"
      ]
     },
     "execution_count": 4,
     "metadata": {},
     "output_type": "execute_result"
    }
   ],
   "source": [
    "mlflow.set_experiment(\"Lending Prediction Experiment\")"
   ]
  },
  {
   "cell_type": "markdown",
   "metadata": {},
   "source": [
    "## Criar os datasets\n"
   ]
  },
  {
   "cell_type": "code",
   "execution_count": 5,
   "metadata": {},
   "outputs": [
    {
     "data": {
      "text/html": [
       "<div>\n",
       "<style scoped>\n",
       "    .dataframe tbody tr th:only-of-type {\n",
       "        vertical-align: middle;\n",
       "    }\n",
       "\n",
       "    .dataframe tbody tr th {\n",
       "        vertical-align: top;\n",
       "    }\n",
       "\n",
       "    .dataframe thead th {\n",
       "        text-align: right;\n",
       "    }\n",
       "</style>\n",
       "<table border=\"1\" class=\"dataframe\">\n",
       "  <thead>\n",
       "    <tr style=\"text-align: right;\">\n",
       "      <th></th>\n",
       "      <th>LIMIT_BAL</th>\n",
       "      <th>SEX</th>\n",
       "      <th>EDUCATION</th>\n",
       "      <th>MARRIAGE</th>\n",
       "      <th>AGE</th>\n",
       "      <th>PAY_0</th>\n",
       "      <th>PAY_2</th>\n",
       "      <th>PAY_3</th>\n",
       "      <th>PAY_4</th>\n",
       "      <th>PAY_5</th>\n",
       "      <th>...</th>\n",
       "      <th>BILL_AMT3</th>\n",
       "      <th>BILL_AMT4</th>\n",
       "      <th>BILL_AMT5</th>\n",
       "      <th>BILL_AMT6</th>\n",
       "      <th>PAY_AMT1</th>\n",
       "      <th>PAY_AMT2</th>\n",
       "      <th>PAY_AMT3</th>\n",
       "      <th>PAY_AMT4</th>\n",
       "      <th>PAY_AMT5</th>\n",
       "      <th>PAY_AMT6</th>\n",
       "    </tr>\n",
       "  </thead>\n",
       "  <tbody>\n",
       "    <tr>\n",
       "      <th>6932</th>\n",
       "      <td>500000.0</td>\n",
       "      <td>1</td>\n",
       "      <td>1</td>\n",
       "      <td>2</td>\n",
       "      <td>37</td>\n",
       "      <td>-1</td>\n",
       "      <td>-1</td>\n",
       "      <td>-1</td>\n",
       "      <td>-1</td>\n",
       "      <td>-1</td>\n",
       "      <td>...</td>\n",
       "      <td>30592.0</td>\n",
       "      <td>154167.0</td>\n",
       "      <td>13410.0</td>\n",
       "      <td>25426.0</td>\n",
       "      <td>60446.0</td>\n",
       "      <td>30594.0</td>\n",
       "      <td>150843.0</td>\n",
       "      <td>163881.0</td>\n",
       "      <td>25426.0</td>\n",
       "      <td>39526.0</td>\n",
       "    </tr>\n",
       "    <tr>\n",
       "      <th>6586</th>\n",
       "      <td>360000.0</td>\n",
       "      <td>1</td>\n",
       "      <td>3</td>\n",
       "      <td>1</td>\n",
       "      <td>42</td>\n",
       "      <td>-1</td>\n",
       "      <td>-1</td>\n",
       "      <td>-1</td>\n",
       "      <td>0</td>\n",
       "      <td>-1</td>\n",
       "      <td>...</td>\n",
       "      <td>22648.0</td>\n",
       "      <td>19433.0</td>\n",
       "      <td>16708.0</td>\n",
       "      <td>24047.0</td>\n",
       "      <td>1815.0</td>\n",
       "      <td>22674.0</td>\n",
       "      <td>95.0</td>\n",
       "      <td>16790.0</td>\n",
       "      <td>24283.0</td>\n",
       "      <td>17387.0</td>\n",
       "    </tr>\n",
       "    <tr>\n",
       "      <th>13780</th>\n",
       "      <td>20000.0</td>\n",
       "      <td>2</td>\n",
       "      <td>2</td>\n",
       "      <td>1</td>\n",
       "      <td>34</td>\n",
       "      <td>0</td>\n",
       "      <td>0</td>\n",
       "      <td>0</td>\n",
       "      <td>2</td>\n",
       "      <td>3</td>\n",
       "      <td>...</td>\n",
       "      <td>9618.0</td>\n",
       "      <td>10313.0</td>\n",
       "      <td>9863.0</td>\n",
       "      <td>9558.0</td>\n",
       "      <td>1200.0</td>\n",
       "      <td>2000.0</td>\n",
       "      <td>1000.0</td>\n",
       "      <td>0.0</td>\n",
       "      <td>0.0</td>\n",
       "      <td>508.0</td>\n",
       "    </tr>\n",
       "    <tr>\n",
       "      <th>4365</th>\n",
       "      <td>170000.0</td>\n",
       "      <td>1</td>\n",
       "      <td>1</td>\n",
       "      <td>1</td>\n",
       "      <td>44</td>\n",
       "      <td>-1</td>\n",
       "      <td>-1</td>\n",
       "      <td>-1</td>\n",
       "      <td>-1</td>\n",
       "      <td>-1</td>\n",
       "      <td>...</td>\n",
       "      <td>1716.0</td>\n",
       "      <td>2442.0</td>\n",
       "      <td>14605.0</td>\n",
       "      <td>2895.0</td>\n",
       "      <td>29069.0</td>\n",
       "      <td>1721.0</td>\n",
       "      <td>2442.0</td>\n",
       "      <td>14605.0</td>\n",
       "      <td>2895.0</td>\n",
       "      <td>9608.0</td>\n",
       "    </tr>\n",
       "    <tr>\n",
       "      <th>2301</th>\n",
       "      <td>230000.0</td>\n",
       "      <td>2</td>\n",
       "      <td>1</td>\n",
       "      <td>1</td>\n",
       "      <td>30</td>\n",
       "      <td>-1</td>\n",
       "      <td>-1</td>\n",
       "      <td>0</td>\n",
       "      <td>0</td>\n",
       "      <td>0</td>\n",
       "      <td>...</td>\n",
       "      <td>32450.0</td>\n",
       "      <td>17285.0</td>\n",
       "      <td>9766.0</td>\n",
       "      <td>9981.0</td>\n",
       "      <td>17402.0</td>\n",
       "      <td>20013.0</td>\n",
       "      <td>346.0</td>\n",
       "      <td>5000.0</td>\n",
       "      <td>8000.0</td>\n",
       "      <td>5000.0</td>\n",
       "    </tr>\n",
       "  </tbody>\n",
       "</table>\n",
       "<p>5 rows × 23 columns</p>\n",
       "</div>"
      ],
      "text/plain": [
       "       LIMIT_BAL  SEX  EDUCATION  MARRIAGE  AGE  PAY_0  PAY_2  PAY_3  PAY_4  \\\n",
       "6932    500000.0    1          1         2   37     -1     -1     -1     -1   \n",
       "6586    360000.0    1          3         1   42     -1     -1     -1      0   \n",
       "13780    20000.0    2          2         1   34      0      0      0      2   \n",
       "4365    170000.0    1          1         1   44     -1     -1     -1     -1   \n",
       "2301    230000.0    2          1         1   30     -1     -1      0      0   \n",
       "\n",
       "       PAY_5  ...  BILL_AMT3  BILL_AMT4  BILL_AMT5  BILL_AMT6  PAY_AMT1  \\\n",
       "6932      -1  ...    30592.0   154167.0    13410.0    25426.0   60446.0   \n",
       "6586      -1  ...    22648.0    19433.0    16708.0    24047.0    1815.0   \n",
       "13780      3  ...     9618.0    10313.0     9863.0     9558.0    1200.0   \n",
       "4365      -1  ...     1716.0     2442.0    14605.0     2895.0   29069.0   \n",
       "2301       0  ...    32450.0    17285.0     9766.0     9981.0   17402.0   \n",
       "\n",
       "       PAY_AMT2  PAY_AMT3  PAY_AMT4  PAY_AMT5  PAY_AMT6  \n",
       "6932    30594.0  150843.0  163881.0   25426.0   39526.0  \n",
       "6586    22674.0      95.0   16790.0   24283.0   17387.0  \n",
       "13780    2000.0    1000.0       0.0       0.0     508.0  \n",
       "4365     1721.0    2442.0   14605.0    2895.0    9608.0  \n",
       "2301    20013.0     346.0    5000.0    8000.0    5000.0  \n",
       "\n",
       "[5 rows x 23 columns]"
      ]
     },
     "execution_count": 5,
     "metadata": {},
     "output_type": "execute_result"
    }
   ],
   "source": [
    "df = pd.read_csv(root_path + 'lending_data.csv')\n",
    "\n",
    "df = df.drop('ID', axis = 1)\n",
    "\n",
    "train_set, test_set = train_test_split(df, test_size = 0.2, random_state = seed)\n",
    "\n",
    "train_set_staged = train_set.sample(frac=0.2)\n",
    "\n",
    "X_train = train_set_staged.drop([target_col], axis = 'columns')\n",
    "y_train = train_set_staged[target_col]\n",
    "\n",
    "X_test = test_set.drop([target_col], axis = 1)\n",
    "y_test = test_set[target_col]\n",
    "\n",
    "X_train.head()"
   ]
  },
  {
   "cell_type": "code",
   "execution_count": 6,
   "metadata": {},
   "outputs": [],
   "source": [
    "# Definição dos modelos e dos seus respectivos hiper-parâmetros para busca em grid\n",
    "models_and_params = [\n",
    "    (\n",
    "        'ann',\n",
    "        Pipeline(steps=[\n",
    "            ('scaler', MinMaxScaler()),\n",
    "            ('Classifier', MLPClassifier(solver = 'lbfgs',  random_state = seed, max_iter = 1000))\n",
    "        ]),\n",
    "        {\n",
    "          \"Classifier__hidden_layer_sizes\": [(20,), (20,10), (20, 10, 2)],\n",
    "          'Classifier__learning_rate_init':[0.0001, 0.001, 0.01, 0.1]\n",
    "        }\n",
    "    ),\n",
    "    (\n",
    "        'random_forest',\n",
    "        RandomForestClassifier(random_state = seed,  class_weight = 'balanced'),\n",
    "        {\n",
    "            'n_estimators':[10, 100, 300, 1000]\n",
    "        }\n",
    "    ),\n",
    "    (\n",
    "        'decision_tree',\n",
    "        tree.DecisionTreeClassifier(random_state = seed,  class_weight = 'balanced'),\n",
    "        {\n",
    "            'max_depth':[3, 6],\n",
    "            'min_samples_split': [2, 4, 10]\n",
    "        }\n",
    "    ),\n",
    "    (\n",
    "        'svm',\n",
    "        Pipeline(steps=[\n",
    "            ('scaler', MinMaxScaler()),\n",
    "            ('Classifier', SVC(random_state = seed, class_weight = 'balanced', gamma = 'scale', probability = True, verbose = True))\n",
    "        ]),\n",
    "        {\n",
    "          \"Classifier__C\": [0.1, 1, 10],\n",
    "          \"Classifier__kernel\": [\"linear\",\"rbf\"]\n",
    "        }\n",
    "    ),\n",
    "    (\n",
    "        'knn',\n",
    "        Pipeline(steps=[\n",
    "            ('scaler', MinMaxScaler()),\n",
    "            ('Classifier', KNeighborsClassifier())\n",
    "        ]),\n",
    "        {\n",
    "          \"Classifier__n_neighbors\": [1,10,100],\n",
    "        }\n",
    "    ),\n",
    "    (\n",
    "        'lr',\n",
    "        Pipeline(steps=[\n",
    "            ('scaler', MinMaxScaler()),\n",
    "            ('Classifier', LogisticRegression(max_iter = 500, solver = 'lbfgs', random_state = seed, class_weight = 'balanced'))\n",
    "        ]),\n",
    "        {\n",
    "          \"Classifier__C\": [0.001, 0.01, 0.1, 1, 10, 100]\n",
    "        }\n",
    "    )\n",
    "]"
   ]
  },
  {
   "cell_type": "code",
   "execution_count": 7,
   "metadata": {},
   "outputs": [
    {
     "name": "stdout",
     "output_type": "stream",
     "text": [
      "Currently assessing ann\n"
     ]
    },
    {
     "name": "stderr",
     "output_type": "stream",
     "text": [
      "c:\\Users\\a79918\\AppData\\Local\\miniconda3\\envs\\OML_Final\\Lib\\site-packages\\sklearn\\neural_network\\_multilayer_perceptron.py:546: ConvergenceWarning: lbfgs failed to converge (status=1):\n",
      "STOP: TOTAL NO. OF ITERATIONS REACHED LIMIT.\n",
      "\n",
      "Increase the number of iterations (max_iter) or scale the data as shown in:\n",
      "    https://scikit-learn.org/stable/modules/preprocessing.html\n",
      "  self.n_iter_ = _check_optimize_result(\"lbfgs\", opt_res, self.max_iter)\n",
      "2025/03/25 23:09:46 WARNING mlflow.models.model: Model logged without a signature and input example. Please set `input_example` parameter when logging the model to auto infer the model signature.\n",
      "Successfully registered model 'ann'.\n",
      "2025/03/25 23:09:47 INFO mlflow.store.model_registry.abstract_store: Waiting up to 300 seconds for model version to finish creation. Model name: ann, version 1\n",
      "Created version '1' of model 'ann'.\n"
     ]
    },
    {
     "name": "stdout",
     "output_type": "stream",
     "text": [
      "✅ Model ann completed with best score: 0.7967\n",
      "🏃 View run ann at: http://127.0.0.1:5000/#/experiments/448265258201631582/runs/d303dae5e83d44e3a535aed85579aa0b\n",
      "🧪 View experiment at: http://127.0.0.1:5000/#/experiments/448265258201631582\n",
      "Currently assessing random_forest\n"
     ]
    },
    {
     "name": "stderr",
     "output_type": "stream",
     "text": [
      "2025/03/25 23:11:05 WARNING mlflow.models.model: Model logged without a signature and input example. Please set `input_example` parameter when logging the model to auto infer the model signature.\n",
      "Successfully registered model 'random_forest'.\n",
      "2025/03/25 23:11:09 INFO mlflow.store.model_registry.abstract_store: Waiting up to 300 seconds for model version to finish creation. Model name: random_forest, version 1\n",
      "Created version '1' of model 'random_forest'.\n"
     ]
    },
    {
     "name": "stdout",
     "output_type": "stream",
     "text": [
      "✅ Model random_forest completed with best score: 0.8088\n",
      "🏃 View run random_forest at: http://127.0.0.1:5000/#/experiments/448265258201631582/runs/22671ac8b3554d58ab0deb71e311e27f\n",
      "🧪 View experiment at: http://127.0.0.1:5000/#/experiments/448265258201631582\n",
      "Currently assessing decision_tree\n"
     ]
    },
    {
     "name": "stderr",
     "output_type": "stream",
     "text": [
      "2025/03/25 23:11:24 WARNING mlflow.models.model: Model logged without a signature and input example. Please set `input_example` parameter when logging the model to auto infer the model signature.\n",
      "Successfully registered model 'decision_tree'.\n",
      "2025/03/25 23:11:24 INFO mlflow.store.model_registry.abstract_store: Waiting up to 300 seconds for model version to finish creation. Model name: decision_tree, version 1\n",
      "Created version '1' of model 'decision_tree'.\n"
     ]
    },
    {
     "name": "stdout",
     "output_type": "stream",
     "text": [
      "✅ Model decision_tree completed with best score: 0.7446\n",
      "🏃 View run decision_tree at: http://127.0.0.1:5000/#/experiments/448265258201631582/runs/246bf348b3c94665aca3983f24c8940b\n",
      "🧪 View experiment at: http://127.0.0.1:5000/#/experiments/448265258201631582\n",
      "Currently assessing svm\n",
      "[LibSVM]"
     ]
    },
    {
     "name": "stderr",
     "output_type": "stream",
     "text": [
      "2025/03/25 23:12:48 WARNING mlflow.models.model: Model logged without a signature and input example. Please set `input_example` parameter when logging the model to auto infer the model signature.\n",
      "Successfully registered model 'svm'.\n",
      "2025/03/25 23:12:49 INFO mlflow.store.model_registry.abstract_store: Waiting up to 300 seconds for model version to finish creation. Model name: svm, version 1\n",
      "Created version '1' of model 'svm'.\n"
     ]
    },
    {
     "name": "stdout",
     "output_type": "stream",
     "text": [
      "✅ Model svm completed with best score: 0.7881\n",
      "🏃 View run svm at: http://127.0.0.1:5000/#/experiments/448265258201631582/runs/af3a7c9210a34028ad9bf37238f70c90\n",
      "🧪 View experiment at: http://127.0.0.1:5000/#/experiments/448265258201631582\n",
      "Currently assessing knn\n"
     ]
    },
    {
     "name": "stderr",
     "output_type": "stream",
     "text": [
      "2025/03/25 23:13:07 WARNING mlflow.models.model: Model logged without a signature and input example. Please set `input_example` parameter when logging the model to auto infer the model signature.\n",
      "Successfully registered model 'knn'.\n",
      "2025/03/25 23:13:08 INFO mlflow.store.model_registry.abstract_store: Waiting up to 300 seconds for model version to finish creation. Model name: knn, version 1\n",
      "Created version '1' of model 'knn'.\n"
     ]
    },
    {
     "name": "stdout",
     "output_type": "stream",
     "text": [
      "✅ Model knn completed with best score: 0.7992\n",
      "🏃 View run knn at: http://127.0.0.1:5000/#/experiments/448265258201631582/runs/292a7ac88ae74ff187e718025ac30549\n",
      "🧪 View experiment at: http://127.0.0.1:5000/#/experiments/448265258201631582\n",
      "Currently assessing lr\n"
     ]
    },
    {
     "name": "stderr",
     "output_type": "stream",
     "text": [
      "2025/03/25 23:13:21 WARNING mlflow.models.model: Model logged without a signature and input example. Please set `input_example` parameter when logging the model to auto infer the model signature.\n",
      "Successfully registered model 'lr'.\n",
      "2025/03/25 23:13:21 INFO mlflow.store.model_registry.abstract_store: Waiting up to 300 seconds for model version to finish creation. Model name: lr, version 1\n",
      "Created version '1' of model 'lr'.\n"
     ]
    },
    {
     "name": "stdout",
     "output_type": "stream",
     "text": [
      "✅ Model lr completed with best score: 0.6781\n",
      "🏃 View run lr at: http://127.0.0.1:5000/#/experiments/448265258201631582/runs/d90f101cc6934aa38f333057cbce3f47\n",
      "🧪 View experiment at: http://127.0.0.1:5000/#/experiments/448265258201631582\n",
      "🎯 All models have been evaluated and logged in MLflow!\n"
     ]
    }
   ],
   "source": [
    "for model_str, clf, params in models_and_params:\n",
    "    print(f\"Currently assessing {model_str}\")\n",
    "    \n",
    "    # Inicia a run\n",
    "    run = mlflow.start_run(run_name=model_str)\n",
    "\n",
    "    try:\n",
    "        # 1️⃣ Executar Grid Search\n",
    "        grid_search = GridSearchCV(clf, params, cv=5, n_jobs=-1)\n",
    "        grid_search.fit(X_train, y_train)\n",
    "\n",
    "        # 2️⃣ Obter os melhores parâmetros e o melhor score\n",
    "        best_params = grid_search.best_params_\n",
    "        best_score = grid_search.best_score_\n",
    "\n",
    "        # 3️⃣ Registrar os hiperparâmetros e a métrica no MLflow\n",
    "        mlflow.log_params(best_params)\n",
    "        mlflow.log_metric(\"best_cv_score\", best_score)\n",
    "\n",
    "        # 4️⃣ Salvar o modelo treinado no MLflow\n",
    "        mlflow.sklearn.log_model(grid_search.best_estimator_, artifact_path=model_str, registered_model_name=model_str)\n",
    "\n",
    "        # 5️⃣ Fazer predições no conjunto de teste\n",
    "        y_preds = grid_search.best_estimator_.predict(X_test)\n",
    "\n",
    "        # 6️⃣ Calcular métricas adicionais\n",
    "        acc = accuracy_score(y_test, y_preds)\n",
    "        mlflow.log_metric(\"accuracy\", acc)\n",
    "\n",
    "        print(f\"✅ Model {model_str} completed with best score: {best_score:.4f}\")\n",
    "\n",
    "    except Exception as e:\n",
    "        print(f\"❌ Error in {model_str}: {e}\")\n",
    "\n",
    "    finally:\n",
    "        # 🔹 Encerra a run explicitamente\n",
    "        mlflow.end_run()\n",
    "\n",
    "print(\"🎯 All models have been evaluated and logged in MLflow!\")"
   ]
  },
  {
   "cell_type": "code",
   "execution_count": null,
   "metadata": {},
   "outputs": [],
   "source": []
  }
 ],
 "metadata": {
  "kernelspec": {
   "display_name": "Python 3",
   "language": "python",
   "name": "python3"
  },
  "language_info": {
   "codemirror_mode": {
    "name": "ipython",
    "version": 3
   },
   "file_extension": ".py",
   "mimetype": "text/x-python",
   "name": "python",
   "nbconvert_exporter": "python",
   "pygments_lexer": "ipython3",
   "version": "3.12.3"
  }
 },
 "nbformat": 4,
 "nbformat_minor": 2
}

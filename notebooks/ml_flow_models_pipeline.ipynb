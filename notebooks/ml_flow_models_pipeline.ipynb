{
 "cells": [
  {
   "cell_type": "markdown",
   "metadata": {},
   "source": [
    "## Registar um pipeline no mlflow"
   ]
  },
  {
   "cell_type": "code",
   "execution_count": 12,
   "metadata": {},
   "outputs": [],
   "source": [
    "import mlflow\n",
    "import pandas as pd\n",
    "import numpy as np\n",
    "\n",
    "from sklearn.pipeline import Pipeline\n",
    "from sklearn.metrics import  precision_recall_curve, roc_auc_score, confusion_matrix, accuracy_score, recall_score, precision_score, f1_score,auc, roc_curve\n",
    "from sklearn.model_selection import train_test_split\n",
    "from sklearn.preprocessing import MinMaxScaler\n",
    "from sklearn.model_selection import GridSearchCV\n",
    "from sklearn.ensemble import RandomForestClassifier\n",
    "from sklearn.linear_model import LogisticRegression\n",
    "from sklearn.neighbors import KNeighborsClassifier\n",
    "from sklearn.svm import SVC\n",
    "from sklearn import tree\n",
    "from sklearn.linear_model import Perceptron\n",
    "from sklearn.neural_network import MLPClassifier\n",
    "from mlflow.models import infer_signature\n",
    "\n"
   ]
  },
  {
   "cell_type": "code",
   "execution_count": 13,
   "metadata": {},
   "outputs": [],
   "source": [
    "root_path = '../data/'\n",
    "seed = 42\n",
    "target_col = \"default.payment.next.month\""
   ]
  },
  {
   "cell_type": "markdown",
   "metadata": {},
   "source": [
    "## Definir a diretoria onde as experiências são guardadas"
   ]
  },
  {
   "cell_type": "code",
   "execution_count": 14,
   "metadata": {},
   "outputs": [],
   "source": [
    "from pathlib import Path\n",
    "\n",
    "uri = \"http://127.0.0.1:5000\"\n",
    "\n",
    "mlflow.set_tracking_uri(uri)"
   ]
  },
  {
   "cell_type": "markdown",
   "metadata": {},
   "source": [
    "## Fazer set da experiência"
   ]
  },
  {
   "cell_type": "code",
   "execution_count": 15,
   "metadata": {},
   "outputs": [
    {
     "name": "stderr",
     "output_type": "stream",
     "text": [
      "2025/03/27 00:25:07 INFO mlflow.tracking.fluent: Experiment with name 'Lending Prediction Experiment' does not exist. Creating a new experiment.\n"
     ]
    },
    {
     "data": {
      "text/plain": [
       "<Experiment: artifact_location='mlflow-artifacts:/226254833090476706', creation_time=1743035107482, experiment_id='226254833090476706', last_update_time=1743035107482, lifecycle_stage='active', name='Lending Prediction Experiment', tags={}>"
      ]
     },
     "execution_count": 15,
     "metadata": {},
     "output_type": "execute_result"
    }
   ],
   "source": [
    "mlflow.set_experiment(\"Lending Prediction Experiment\")"
   ]
  },
  {
   "cell_type": "markdown",
   "metadata": {},
   "source": [
    "## Criar os datasets\n"
   ]
  },
  {
   "cell_type": "code",
   "execution_count": 16,
   "metadata": {},
   "outputs": [
    {
     "data": {
      "text/html": [
       "<div>\n",
       "<style scoped>\n",
       "    .dataframe tbody tr th:only-of-type {\n",
       "        vertical-align: middle;\n",
       "    }\n",
       "\n",
       "    .dataframe tbody tr th {\n",
       "        vertical-align: top;\n",
       "    }\n",
       "\n",
       "    .dataframe thead th {\n",
       "        text-align: right;\n",
       "    }\n",
       "</style>\n",
       "<table border=\"1\" class=\"dataframe\">\n",
       "  <thead>\n",
       "    <tr style=\"text-align: right;\">\n",
       "      <th></th>\n",
       "      <th>LIMIT_BAL</th>\n",
       "      <th>SEX</th>\n",
       "      <th>EDUCATION</th>\n",
       "      <th>MARRIAGE</th>\n",
       "      <th>AGE</th>\n",
       "      <th>PAY_0</th>\n",
       "      <th>PAY_2</th>\n",
       "      <th>PAY_3</th>\n",
       "      <th>PAY_4</th>\n",
       "      <th>PAY_5</th>\n",
       "      <th>...</th>\n",
       "      <th>BILL_AMT3</th>\n",
       "      <th>BILL_AMT4</th>\n",
       "      <th>BILL_AMT5</th>\n",
       "      <th>BILL_AMT6</th>\n",
       "      <th>PAY_AMT1</th>\n",
       "      <th>PAY_AMT2</th>\n",
       "      <th>PAY_AMT3</th>\n",
       "      <th>PAY_AMT4</th>\n",
       "      <th>PAY_AMT5</th>\n",
       "      <th>PAY_AMT6</th>\n",
       "    </tr>\n",
       "  </thead>\n",
       "  <tbody>\n",
       "    <tr>\n",
       "      <th>15887</th>\n",
       "      <td>360000.0</td>\n",
       "      <td>2</td>\n",
       "      <td>1</td>\n",
       "      <td>2</td>\n",
       "      <td>27</td>\n",
       "      <td>0</td>\n",
       "      <td>0</td>\n",
       "      <td>0</td>\n",
       "      <td>0</td>\n",
       "      <td>0</td>\n",
       "      <td>...</td>\n",
       "      <td>110795.0</td>\n",
       "      <td>101668.0</td>\n",
       "      <td>78730.0</td>\n",
       "      <td>66682.0</td>\n",
       "      <td>4500.0</td>\n",
       "      <td>4100.0</td>\n",
       "      <td>4208.0</td>\n",
       "      <td>3000.0</td>\n",
       "      <td>2300.0</td>\n",
       "      <td>1800.0</td>\n",
       "    </tr>\n",
       "    <tr>\n",
       "      <th>29449</th>\n",
       "      <td>280000.0</td>\n",
       "      <td>1</td>\n",
       "      <td>1</td>\n",
       "      <td>1</td>\n",
       "      <td>31</td>\n",
       "      <td>-2</td>\n",
       "      <td>-2</td>\n",
       "      <td>-2</td>\n",
       "      <td>-2</td>\n",
       "      <td>-2</td>\n",
       "      <td>...</td>\n",
       "      <td>1345.0</td>\n",
       "      <td>-5.0</td>\n",
       "      <td>-5.0</td>\n",
       "      <td>985.0</td>\n",
       "      <td>0.0</td>\n",
       "      <td>1351.0</td>\n",
       "      <td>0.0</td>\n",
       "      <td>0.0</td>\n",
       "      <td>990.0</td>\n",
       "      <td>3090.0</td>\n",
       "    </tr>\n",
       "    <tr>\n",
       "      <th>5313</th>\n",
       "      <td>80000.0</td>\n",
       "      <td>2</td>\n",
       "      <td>1</td>\n",
       "      <td>1</td>\n",
       "      <td>50</td>\n",
       "      <td>1</td>\n",
       "      <td>-2</td>\n",
       "      <td>-2</td>\n",
       "      <td>-2</td>\n",
       "      <td>-2</td>\n",
       "      <td>...</td>\n",
       "      <td>0.0</td>\n",
       "      <td>0.0</td>\n",
       "      <td>0.0</td>\n",
       "      <td>0.0</td>\n",
       "      <td>0.0</td>\n",
       "      <td>0.0</td>\n",
       "      <td>0.0</td>\n",
       "      <td>0.0</td>\n",
       "      <td>0.0</td>\n",
       "      <td>0.0</td>\n",
       "    </tr>\n",
       "    <tr>\n",
       "      <th>16926</th>\n",
       "      <td>90000.0</td>\n",
       "      <td>1</td>\n",
       "      <td>3</td>\n",
       "      <td>2</td>\n",
       "      <td>50</td>\n",
       "      <td>0</td>\n",
       "      <td>0</td>\n",
       "      <td>0</td>\n",
       "      <td>0</td>\n",
       "      <td>0</td>\n",
       "      <td>...</td>\n",
       "      <td>71616.0</td>\n",
       "      <td>60177.0</td>\n",
       "      <td>54440.0</td>\n",
       "      <td>45788.0</td>\n",
       "      <td>3451.0</td>\n",
       "      <td>3243.0</td>\n",
       "      <td>2390.0</td>\n",
       "      <td>1840.0</td>\n",
       "      <td>1690.0</td>\n",
       "      <td>1954.0</td>\n",
       "    </tr>\n",
       "    <tr>\n",
       "      <th>22133</th>\n",
       "      <td>80000.0</td>\n",
       "      <td>2</td>\n",
       "      <td>1</td>\n",
       "      <td>2</td>\n",
       "      <td>22</td>\n",
       "      <td>1</td>\n",
       "      <td>2</td>\n",
       "      <td>2</td>\n",
       "      <td>-1</td>\n",
       "      <td>-1</td>\n",
       "      <td>...</td>\n",
       "      <td>4258.0</td>\n",
       "      <td>7032.0</td>\n",
       "      <td>6348.0</td>\n",
       "      <td>1606.0</td>\n",
       "      <td>1000.0</td>\n",
       "      <td>0.0</td>\n",
       "      <td>7032.0</td>\n",
       "      <td>6348.0</td>\n",
       "      <td>1606.0</td>\n",
       "      <td>0.0</td>\n",
       "    </tr>\n",
       "  </tbody>\n",
       "</table>\n",
       "<p>5 rows × 23 columns</p>\n",
       "</div>"
      ],
      "text/plain": [
       "       LIMIT_BAL  SEX  EDUCATION  MARRIAGE  AGE  PAY_0  PAY_2  PAY_3  PAY_4  \\\n",
       "15887   360000.0    2          1         2   27      0      0      0      0   \n",
       "29449   280000.0    1          1         1   31     -2     -2     -2     -2   \n",
       "5313     80000.0    2          1         1   50      1     -2     -2     -2   \n",
       "16926    90000.0    1          3         2   50      0      0      0      0   \n",
       "22133    80000.0    2          1         2   22      1      2      2     -1   \n",
       "\n",
       "       PAY_5  ...  BILL_AMT3  BILL_AMT4  BILL_AMT5  BILL_AMT6  PAY_AMT1  \\\n",
       "15887      0  ...   110795.0   101668.0    78730.0    66682.0    4500.0   \n",
       "29449     -2  ...     1345.0       -5.0       -5.0      985.0       0.0   \n",
       "5313      -2  ...        0.0        0.0        0.0        0.0       0.0   \n",
       "16926      0  ...    71616.0    60177.0    54440.0    45788.0    3451.0   \n",
       "22133     -1  ...     4258.0     7032.0     6348.0     1606.0    1000.0   \n",
       "\n",
       "       PAY_AMT2  PAY_AMT3  PAY_AMT4  PAY_AMT5  PAY_AMT6  \n",
       "15887    4100.0    4208.0    3000.0    2300.0    1800.0  \n",
       "29449    1351.0       0.0       0.0     990.0    3090.0  \n",
       "5313        0.0       0.0       0.0       0.0       0.0  \n",
       "16926    3243.0    2390.0    1840.0    1690.0    1954.0  \n",
       "22133       0.0    7032.0    6348.0    1606.0       0.0  \n",
       "\n",
       "[5 rows x 23 columns]"
      ]
     },
     "execution_count": 16,
     "metadata": {},
     "output_type": "execute_result"
    }
   ],
   "source": [
    "file_path = root_path + 'lending_data.csv'\n",
    "df = pd.read_csv(file_path)\n",
    "\n",
    "df = df.drop('ID', axis = 1)\n",
    "\n",
    "train_set, test_set = train_test_split(df, test_size = 0.2, random_state = seed)\n",
    "\n",
    "train_set_staged = train_set.sample(frac=0.2)\n",
    "\n",
    "X_train = train_set_staged.drop([target_col], axis = 'columns')\n",
    "y_train = train_set_staged[target_col]\n",
    "\n",
    "X_test = test_set.drop([target_col], axis = 1)\n",
    "y_test = test_set[target_col]\n",
    "\n",
    "X_train.head()"
   ]
  },
  {
   "cell_type": "code",
   "execution_count": 17,
   "metadata": {},
   "outputs": [],
   "source": [
    "# Definição dos modelos e dos seus respectivos hiper-parâmetros para busca em grid\n",
    "models_and_params = [\n",
    "    (\n",
    "        'ann',\n",
    "        Pipeline(steps=[\n",
    "            ('scaler', MinMaxScaler()),\n",
    "            ('Classifier', MLPClassifier(solver = 'lbfgs',  random_state = seed, max_iter = 1000))\n",
    "        ]),\n",
    "        {\n",
    "          \"Classifier__hidden_layer_sizes\": [(20,), (20,10), (20, 10, 2)],\n",
    "          'Classifier__learning_rate_init':[0.0001, 0.001, 0.01, 0.1]\n",
    "        }\n",
    "    ),\n",
    "    (\n",
    "        'random_forest',\n",
    "        RandomForestClassifier(random_state = seed,  class_weight = 'balanced'),\n",
    "        {\n",
    "            'n_estimators':[10, 100, 300, 1000]\n",
    "        }\n",
    "    ),\n",
    "    (\n",
    "        'decision_tree',\n",
    "        tree.DecisionTreeClassifier(random_state = seed,  class_weight = 'balanced'),\n",
    "        {\n",
    "            'max_depth':[3, 6],\n",
    "            'min_samples_split': [2, 4, 10]\n",
    "        }\n",
    "    ),\n",
    "    (\n",
    "        'svm',\n",
    "        Pipeline(steps=[\n",
    "            ('scaler', MinMaxScaler()),\n",
    "            ('Classifier', SVC(random_state = seed, class_weight = 'balanced', gamma = 'scale', probability = True, verbose = True))\n",
    "        ]),\n",
    "        {\n",
    "          \"Classifier__C\": [0.1, 1, 10],\n",
    "          \"Classifier__kernel\": [\"linear\",\"rbf\"]\n",
    "        }\n",
    "    ),\n",
    "    (\n",
    "        'knn',\n",
    "        Pipeline(steps=[\n",
    "            ('scaler', MinMaxScaler()),\n",
    "            ('Classifier', KNeighborsClassifier())\n",
    "        ]),\n",
    "        {\n",
    "          \"Classifier__n_neighbors\": [1,10,100],\n",
    "        }\n",
    "    ),\n",
    "    (\n",
    "        'lr',\n",
    "        Pipeline(steps=[\n",
    "            ('scaler', MinMaxScaler()),\n",
    "            ('Classifier', LogisticRegression(max_iter = 500, solver = 'lbfgs', random_state = seed, class_weight = 'balanced'))\n",
    "        ]),\n",
    "        {\n",
    "          \"Classifier__C\": [0.001, 0.01, 0.1, 1, 10, 100]\n",
    "        }\n",
    "    )\n",
    "]"
   ]
  },
  {
   "cell_type": "code",
   "execution_count": 18,
   "metadata": {},
   "outputs": [
    {
     "name": "stdout",
     "output_type": "stream",
     "text": [
      "Currently assessing ann\n"
     ]
    },
    {
     "name": "stderr",
     "output_type": "stream",
     "text": [
      "c:\\Users\\a79918\\AppData\\Local\\miniconda3\\envs\\OML_rumos_bank\\Lib\\site-packages\\sklearn\\neural_network\\_multilayer_perceptron.py:546: ConvergenceWarning: lbfgs failed to converge (status=1):\n",
      "STOP: TOTAL NO. OF ITERATIONS REACHED LIMIT.\n",
      "\n",
      "Increase the number of iterations (max_iter) or scale the data as shown in:\n",
      "    https://scikit-learn.org/stable/modules/preprocessing.html\n",
      "  self.n_iter_ = _check_optimize_result(\"lbfgs\", opt_res, self.max_iter)\n",
      "c:\\Users\\a79918\\AppData\\Local\\miniconda3\\envs\\OML_rumos_bank\\Lib\\site-packages\\mlflow\\types\\utils.py:452: UserWarning: Hint: Inferred schema contains integer column(s). Integer columns in Python cannot represent missing values. If your input data contains missing values at inference time, it will be encoded as floats and will cause a schema enforcement error. The best way to avoid this problem is to infer the model schema based on a realistic data sample (training dataset) that includes missing values. Alternatively, you can declare integer columns as doubles (float64) whenever these columns may have missing values. See `Handling Integers With Missing Values <https://www.mlflow.org/docs/latest/models.html#handling-integers-with-missing-values>`_ for more details.\n",
      "  warnings.warn(\n",
      "c:\\Users\\a79918\\AppData\\Local\\miniconda3\\envs\\OML_rumos_bank\\Lib\\site-packages\\mlflow\\types\\utils.py:452: UserWarning: Hint: Inferred schema contains integer column(s). Integer columns in Python cannot represent missing values. If your input data contains missing values at inference time, it will be encoded as floats and will cause a schema enforcement error. The best way to avoid this problem is to infer the model schema based on a realistic data sample (training dataset) that includes missing values. Alternatively, you can declare integer columns as doubles (float64) whenever these columns may have missing values. See `Handling Integers With Missing Values <https://www.mlflow.org/docs/latest/models.html#handling-integers-with-missing-values>`_ for more details.\n",
      "  warnings.warn(\n",
      "Successfully registered model 'ann'.\n",
      "2025/03/27 00:26:38 INFO mlflow.store.model_registry.abstract_store: Waiting up to 300 seconds for model version to finish creation. Model name: ann, version 1\n",
      "Created version '1' of model 'ann'.\n"
     ]
    },
    {
     "name": "stdout",
     "output_type": "stream",
     "text": [
      "✅ Model ann completed with best score: 0.7881\n",
      "🏃 View run ann at: http://127.0.0.1:5000/#/experiments/226254833090476706/runs/59d0339a24a240cd8ff94eaa2135af23\n",
      "🧪 View experiment at: http://127.0.0.1:5000/#/experiments/226254833090476706\n",
      "Currently assessing random_forest\n"
     ]
    },
    {
     "name": "stderr",
     "output_type": "stream",
     "text": [
      "c:\\Users\\a79918\\AppData\\Local\\miniconda3\\envs\\OML_rumos_bank\\Lib\\site-packages\\mlflow\\types\\utils.py:452: UserWarning: Hint: Inferred schema contains integer column(s). Integer columns in Python cannot represent missing values. If your input data contains missing values at inference time, it will be encoded as floats and will cause a schema enforcement error. The best way to avoid this problem is to infer the model schema based on a realistic data sample (training dataset) that includes missing values. Alternatively, you can declare integer columns as doubles (float64) whenever these columns may have missing values. See `Handling Integers With Missing Values <https://www.mlflow.org/docs/latest/models.html#handling-integers-with-missing-values>`_ for more details.\n",
      "  warnings.warn(\n",
      "c:\\Users\\a79918\\AppData\\Local\\miniconda3\\envs\\OML_rumos_bank\\Lib\\site-packages\\mlflow\\types\\utils.py:452: UserWarning: Hint: Inferred schema contains integer column(s). Integer columns in Python cannot represent missing values. If your input data contains missing values at inference time, it will be encoded as floats and will cause a schema enforcement error. The best way to avoid this problem is to infer the model schema based on a realistic data sample (training dataset) that includes missing values. Alternatively, you can declare integer columns as doubles (float64) whenever these columns may have missing values. See `Handling Integers With Missing Values <https://www.mlflow.org/docs/latest/models.html#handling-integers-with-missing-values>`_ for more details.\n",
      "  warnings.warn(\n",
      "Successfully registered model 'random_forest'.\n",
      "2025/03/27 00:27:23 INFO mlflow.store.model_registry.abstract_store: Waiting up to 300 seconds for model version to finish creation. Model name: random_forest, version 1\n",
      "Created version '1' of model 'random_forest'.\n"
     ]
    },
    {
     "name": "stdout",
     "output_type": "stream",
     "text": [
      "✅ Model random_forest completed with best score: 0.8042\n",
      "🏃 View run random_forest at: http://127.0.0.1:5000/#/experiments/226254833090476706/runs/814867d913514bdb948def4bc48307c5\n",
      "🧪 View experiment at: http://127.0.0.1:5000/#/experiments/226254833090476706\n",
      "Currently assessing decision_tree\n"
     ]
    },
    {
     "name": "stderr",
     "output_type": "stream",
     "text": [
      "c:\\Users\\a79918\\AppData\\Local\\miniconda3\\envs\\OML_rumos_bank\\Lib\\site-packages\\mlflow\\types\\utils.py:452: UserWarning: Hint: Inferred schema contains integer column(s). Integer columns in Python cannot represent missing values. If your input data contains missing values at inference time, it will be encoded as floats and will cause a schema enforcement error. The best way to avoid this problem is to infer the model schema based on a realistic data sample (training dataset) that includes missing values. Alternatively, you can declare integer columns as doubles (float64) whenever these columns may have missing values. See `Handling Integers With Missing Values <https://www.mlflow.org/docs/latest/models.html#handling-integers-with-missing-values>`_ for more details.\n",
      "  warnings.warn(\n",
      "c:\\Users\\a79918\\AppData\\Local\\miniconda3\\envs\\OML_rumos_bank\\Lib\\site-packages\\mlflow\\types\\utils.py:452: UserWarning: Hint: Inferred schema contains integer column(s). Integer columns in Python cannot represent missing values. If your input data contains missing values at inference time, it will be encoded as floats and will cause a schema enforcement error. The best way to avoid this problem is to infer the model schema based on a realistic data sample (training dataset) that includes missing values. Alternatively, you can declare integer columns as doubles (float64) whenever these columns may have missing values. See `Handling Integers With Missing Values <https://www.mlflow.org/docs/latest/models.html#handling-integers-with-missing-values>`_ for more details.\n",
      "  warnings.warn(\n",
      "Successfully registered model 'decision_tree'.\n",
      "2025/03/27 00:27:34 INFO mlflow.store.model_registry.abstract_store: Waiting up to 300 seconds for model version to finish creation. Model name: decision_tree, version 1\n",
      "Created version '1' of model 'decision_tree'.\n"
     ]
    },
    {
     "name": "stdout",
     "output_type": "stream",
     "text": [
      "✅ Model decision_tree completed with best score: 0.7396\n",
      "🏃 View run decision_tree at: http://127.0.0.1:5000/#/experiments/226254833090476706/runs/b9321b9a05014f7182cc4a5b32935ae5\n",
      "🧪 View experiment at: http://127.0.0.1:5000/#/experiments/226254833090476706\n",
      "Currently assessing svm\n",
      "[LibSVM]"
     ]
    },
    {
     "name": "stderr",
     "output_type": "stream",
     "text": [
      "c:\\Users\\a79918\\AppData\\Local\\miniconda3\\envs\\OML_rumos_bank\\Lib\\site-packages\\mlflow\\types\\utils.py:452: UserWarning: Hint: Inferred schema contains integer column(s). Integer columns in Python cannot represent missing values. If your input data contains missing values at inference time, it will be encoded as floats and will cause a schema enforcement error. The best way to avoid this problem is to infer the model schema based on a realistic data sample (training dataset) that includes missing values. Alternatively, you can declare integer columns as doubles (float64) whenever these columns may have missing values. See `Handling Integers With Missing Values <https://www.mlflow.org/docs/latest/models.html#handling-integers-with-missing-values>`_ for more details.\n",
      "  warnings.warn(\n",
      "c:\\Users\\a79918\\AppData\\Local\\miniconda3\\envs\\OML_rumos_bank\\Lib\\site-packages\\mlflow\\types\\utils.py:452: UserWarning: Hint: Inferred schema contains integer column(s). Integer columns in Python cannot represent missing values. If your input data contains missing values at inference time, it will be encoded as floats and will cause a schema enforcement error. The best way to avoid this problem is to infer the model schema based on a realistic data sample (training dataset) that includes missing values. Alternatively, you can declare integer columns as doubles (float64) whenever these columns may have missing values. See `Handling Integers With Missing Values <https://www.mlflow.org/docs/latest/models.html#handling-integers-with-missing-values>`_ for more details.\n",
      "  warnings.warn(\n",
      "Successfully registered model 'svm'.\n",
      "2025/03/27 00:28:49 INFO mlflow.store.model_registry.abstract_store: Waiting up to 300 seconds for model version to finish creation. Model name: svm, version 1\n",
      "Created version '1' of model 'svm'.\n"
     ]
    },
    {
     "name": "stdout",
     "output_type": "stream",
     "text": [
      "✅ Model svm completed with best score: 0.7833\n",
      "🏃 View run svm at: http://127.0.0.1:5000/#/experiments/226254833090476706/runs/24e8899e63034cbd93b78d606a7c854a\n",
      "🧪 View experiment at: http://127.0.0.1:5000/#/experiments/226254833090476706\n",
      "Currently assessing knn\n"
     ]
    },
    {
     "name": "stderr",
     "output_type": "stream",
     "text": [
      "c:\\Users\\a79918\\AppData\\Local\\miniconda3\\envs\\OML_rumos_bank\\Lib\\site-packages\\mlflow\\types\\utils.py:452: UserWarning: Hint: Inferred schema contains integer column(s). Integer columns in Python cannot represent missing values. If your input data contains missing values at inference time, it will be encoded as floats and will cause a schema enforcement error. The best way to avoid this problem is to infer the model schema based on a realistic data sample (training dataset) that includes missing values. Alternatively, you can declare integer columns as doubles (float64) whenever these columns may have missing values. See `Handling Integers With Missing Values <https://www.mlflow.org/docs/latest/models.html#handling-integers-with-missing-values>`_ for more details.\n",
      "  warnings.warn(\n",
      "c:\\Users\\a79918\\AppData\\Local\\miniconda3\\envs\\OML_rumos_bank\\Lib\\site-packages\\mlflow\\types\\utils.py:452: UserWarning: Hint: Inferred schema contains integer column(s). Integer columns in Python cannot represent missing values. If your input data contains missing values at inference time, it will be encoded as floats and will cause a schema enforcement error. The best way to avoid this problem is to infer the model schema based on a realistic data sample (training dataset) that includes missing values. Alternatively, you can declare integer columns as doubles (float64) whenever these columns may have missing values. See `Handling Integers With Missing Values <https://www.mlflow.org/docs/latest/models.html#handling-integers-with-missing-values>`_ for more details.\n",
      "  warnings.warn(\n",
      "Successfully registered model 'knn'.\n",
      "2025/03/27 00:28:59 INFO mlflow.store.model_registry.abstract_store: Waiting up to 300 seconds for model version to finish creation. Model name: knn, version 1\n",
      "Created version '1' of model 'knn'.\n"
     ]
    },
    {
     "name": "stdout",
     "output_type": "stream",
     "text": [
      "✅ Model knn completed with best score: 0.7944\n",
      "🏃 View run knn at: http://127.0.0.1:5000/#/experiments/226254833090476706/runs/43c45f2aff3140bf9d3bc59e62959214\n",
      "🧪 View experiment at: http://127.0.0.1:5000/#/experiments/226254833090476706\n",
      "Currently assessing lr\n"
     ]
    },
    {
     "name": "stderr",
     "output_type": "stream",
     "text": [
      "c:\\Users\\a79918\\AppData\\Local\\miniconda3\\envs\\OML_rumos_bank\\Lib\\site-packages\\mlflow\\types\\utils.py:452: UserWarning: Hint: Inferred schema contains integer column(s). Integer columns in Python cannot represent missing values. If your input data contains missing values at inference time, it will be encoded as floats and will cause a schema enforcement error. The best way to avoid this problem is to infer the model schema based on a realistic data sample (training dataset) that includes missing values. Alternatively, you can declare integer columns as doubles (float64) whenever these columns may have missing values. See `Handling Integers With Missing Values <https://www.mlflow.org/docs/latest/models.html#handling-integers-with-missing-values>`_ for more details.\n",
      "  warnings.warn(\n",
      "c:\\Users\\a79918\\AppData\\Local\\miniconda3\\envs\\OML_rumos_bank\\Lib\\site-packages\\mlflow\\types\\utils.py:452: UserWarning: Hint: Inferred schema contains integer column(s). Integer columns in Python cannot represent missing values. If your input data contains missing values at inference time, it will be encoded as floats and will cause a schema enforcement error. The best way to avoid this problem is to infer the model schema based on a realistic data sample (training dataset) that includes missing values. Alternatively, you can declare integer columns as doubles (float64) whenever these columns may have missing values. See `Handling Integers With Missing Values <https://www.mlflow.org/docs/latest/models.html#handling-integers-with-missing-values>`_ for more details.\n",
      "  warnings.warn(\n",
      "Successfully registered model 'lr'.\n",
      "2025/03/27 00:29:08 INFO mlflow.store.model_registry.abstract_store: Waiting up to 300 seconds for model version to finish creation. Model name: lr, version 1\n"
     ]
    },
    {
     "name": "stdout",
     "output_type": "stream",
     "text": [
      "✅ Model lr completed with best score: 0.6800\n",
      "🏃 View run lr at: http://127.0.0.1:5000/#/experiments/226254833090476706/runs/c83d4524ab0041bbac44e107e2c20be1\n",
      "🧪 View experiment at: http://127.0.0.1:5000/#/experiments/226254833090476706\n",
      "🎯 All models have been evaluated and logged in MLflow!\n"
     ]
    },
    {
     "name": "stderr",
     "output_type": "stream",
     "text": [
      "Created version '1' of model 'lr'.\n"
     ]
    }
   ],
   "source": [
    "for model_str, clf, params in models_and_params:\n",
    "    print(f\"Currently assessing {model_str}\")\n",
    "    \n",
    "        # Inicia a run\n",
    "    with mlflow.start_run(run_name=model_str):\n",
    "\n",
    "        \n",
    "        # 1️⃣ Executar Grid Search\n",
    "        grid_search = GridSearchCV(clf, params, cv=5, n_jobs=-1)\n",
    "        grid_search.fit(X_train, y_train)\n",
    "\n",
    "        # 2️⃣ Obter os melhores parâmetros e o melhor score\n",
    "        best_params = grid_search.best_params_\n",
    "        best_score = grid_search.best_score_\n",
    "\n",
    "        # 3️⃣ Registrar os hiperparâmetros e a métrica no MLflow\n",
    "        mlflow.log_params(best_params)\n",
    "        mlflow.log_metric(\"best_cv_score\", best_score)\n",
    "\n",
    "        # 4️⃣ Salvar o modelo treinado no MLflow\n",
    "        mlflow.sklearn.log_model(grid_search.best_estimator_, artifact_path=\"sklearn-model\", input_example=X_train, registered_model_name=model_str)\n",
    "\n",
    "        # 5️⃣ Fazer predições no conjunto de teste\n",
    "        y_preds = grid_search.best_estimator_.predict(X_test)\n",
    "\n",
    "        # 6️⃣ Calcular métricas adicionais\n",
    "        acc = accuracy_score(y_test, y_preds)\n",
    "        mlflow.log_metric(\"accuracy\", acc)\n",
    "\n",
    "        print(f\"✅ Model {model_str} completed with best score: {best_score:.4f}\")\n",
    "\n",
    "\n",
    "print(\"🎯 All models have been evaluated and logged in MLflow!\")"
   ]
  },
  {
   "cell_type": "code",
   "execution_count": null,
   "metadata": {},
   "outputs": [],
   "source": []
  }
 ],
 "metadata": {
  "kernelspec": {
   "display_name": "Python 3",
   "language": "python",
   "name": "python3"
  },
  "language_info": {
   "codemirror_mode": {
    "name": "ipython",
    "version": 3
   },
   "file_extension": ".py",
   "mimetype": "text/x-python",
   "name": "python",
   "nbconvert_exporter": "python",
   "pygments_lexer": "ipython3",
   "version": "3.12.3"
  }
 },
 "nbformat": 4,
 "nbformat_minor": 2
}

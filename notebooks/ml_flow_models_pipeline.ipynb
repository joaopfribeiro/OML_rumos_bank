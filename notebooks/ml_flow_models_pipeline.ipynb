{
 "cells": [
  {
   "cell_type": "markdown",
   "metadata": {},
   "source": [
    "## Registar um pipeline no mlflow"
   ]
  },
  {
   "cell_type": "code",
   "execution_count": 1,
   "metadata": {},
   "outputs": [],
   "source": [
    "import mlflow\n",
    "import pandas as pd\n",
    "import numpy as np\n",
    "\n",
    "from sklearn.pipeline import Pipeline\n",
    "from sklearn.metrics import  precision_recall_curve, roc_auc_score, confusion_matrix, accuracy_score, recall_score, precision_score, f1_score,auc, roc_curve\n",
    "from sklearn.model_selection import train_test_split\n",
    "from sklearn.preprocessing import MinMaxScaler\n",
    "from sklearn.model_selection import GridSearchCV\n",
    "from sklearn.ensemble import RandomForestClassifier\n",
    "from sklearn.linear_model import LogisticRegression\n",
    "from sklearn.neighbors import KNeighborsClassifier\n",
    "from sklearn.svm import SVC\n",
    "from sklearn import tree\n",
    "from sklearn.linear_model import Perceptron\n",
    "from sklearn.neural_network import MLPClassifier\n",
    "from mlflow.models import infer_signature\n",
    "\n"
   ]
  },
  {
   "cell_type": "code",
   "execution_count": 2,
   "metadata": {},
   "outputs": [],
   "source": [
    "root_path = '../data/'\n",
    "seed = 42\n",
    "target_col = \"default.payment.next.month\""
   ]
  },
  {
   "cell_type": "markdown",
   "metadata": {},
   "source": [
    "## Definir a diretoria onde as experiências são guardadas"
   ]
  },
  {
   "cell_type": "code",
   "execution_count": 3,
   "metadata": {},
   "outputs": [],
   "source": [
    "from pathlib import Path\n",
    "\n",
    "uri = \"http://127.0.0.1:5000\"\n",
    "\n",
    "mlflow.set_tracking_uri(uri)"
   ]
  },
  {
   "cell_type": "markdown",
   "metadata": {},
   "source": [
    "## Fazer set da experiência"
   ]
  },
  {
   "cell_type": "code",
   "execution_count": 4,
   "metadata": {},
   "outputs": [
    {
     "name": "stderr",
     "output_type": "stream",
     "text": [
      "2025/04/06 18:36:09 INFO mlflow.tracking.fluent: Experiment with name 'Lending Prediction Experiment' does not exist. Creating a new experiment.\n"
     ]
    },
    {
     "data": {
      "text/plain": [
       "<Experiment: artifact_location='mlflow-artifacts:/851929301218985109', creation_time=1743960969662, experiment_id='851929301218985109', last_update_time=1743960969662, lifecycle_stage='active', name='Lending Prediction Experiment', tags={}>"
      ]
     },
     "execution_count": 4,
     "metadata": {},
     "output_type": "execute_result"
    }
   ],
   "source": [
    "mlflow.set_experiment(\"Lending Prediction Experiment\")"
   ]
  },
  {
   "cell_type": "markdown",
   "metadata": {},
   "source": [
    "## Criar os datasets\n"
   ]
  },
  {
   "cell_type": "code",
   "execution_count": 5,
   "metadata": {},
   "outputs": [
    {
     "data": {
      "text/html": [
       "<div>\n",
       "<style scoped>\n",
       "    .dataframe tbody tr th:only-of-type {\n",
       "        vertical-align: middle;\n",
       "    }\n",
       "\n",
       "    .dataframe tbody tr th {\n",
       "        vertical-align: top;\n",
       "    }\n",
       "\n",
       "    .dataframe thead th {\n",
       "        text-align: right;\n",
       "    }\n",
       "</style>\n",
       "<table border=\"1\" class=\"dataframe\">\n",
       "  <thead>\n",
       "    <tr style=\"text-align: right;\">\n",
       "      <th></th>\n",
       "      <th>LIMIT_BAL</th>\n",
       "      <th>SEX</th>\n",
       "      <th>EDUCATION</th>\n",
       "      <th>MARRIAGE</th>\n",
       "      <th>AGE</th>\n",
       "      <th>PAY_0</th>\n",
       "      <th>PAY_2</th>\n",
       "      <th>PAY_3</th>\n",
       "      <th>PAY_4</th>\n",
       "      <th>PAY_5</th>\n",
       "      <th>...</th>\n",
       "      <th>BILL_AMT3</th>\n",
       "      <th>BILL_AMT4</th>\n",
       "      <th>BILL_AMT5</th>\n",
       "      <th>BILL_AMT6</th>\n",
       "      <th>PAY_AMT1</th>\n",
       "      <th>PAY_AMT2</th>\n",
       "      <th>PAY_AMT3</th>\n",
       "      <th>PAY_AMT4</th>\n",
       "      <th>PAY_AMT5</th>\n",
       "      <th>PAY_AMT6</th>\n",
       "    </tr>\n",
       "  </thead>\n",
       "  <tbody>\n",
       "    <tr>\n",
       "      <th>10858</th>\n",
       "      <td>40000.0</td>\n",
       "      <td>1</td>\n",
       "      <td>1</td>\n",
       "      <td>1</td>\n",
       "      <td>34</td>\n",
       "      <td>-1</td>\n",
       "      <td>-1</td>\n",
       "      <td>-1</td>\n",
       "      <td>-1</td>\n",
       "      <td>-1</td>\n",
       "      <td>...</td>\n",
       "      <td>8374.0</td>\n",
       "      <td>7505.0</td>\n",
       "      <td>7515.0</td>\n",
       "      <td>9120.0</td>\n",
       "      <td>7419.0</td>\n",
       "      <td>8382.0</td>\n",
       "      <td>7505.0</td>\n",
       "      <td>7515.0</td>\n",
       "      <td>9120.0</td>\n",
       "      <td>6180.0</td>\n",
       "    </tr>\n",
       "    <tr>\n",
       "      <th>13742</th>\n",
       "      <td>90000.0</td>\n",
       "      <td>2</td>\n",
       "      <td>1</td>\n",
       "      <td>1</td>\n",
       "      <td>38</td>\n",
       "      <td>-1</td>\n",
       "      <td>-1</td>\n",
       "      <td>0</td>\n",
       "      <td>0</td>\n",
       "      <td>-1</td>\n",
       "      <td>...</td>\n",
       "      <td>16360.0</td>\n",
       "      <td>41936.0</td>\n",
       "      <td>538.0</td>\n",
       "      <td>2716.0</td>\n",
       "      <td>15271.0</td>\n",
       "      <td>2000.0</td>\n",
       "      <td>30000.0</td>\n",
       "      <td>538.0</td>\n",
       "      <td>2716.0</td>\n",
       "      <td>652.0</td>\n",
       "    </tr>\n",
       "    <tr>\n",
       "      <th>2296</th>\n",
       "      <td>300000.0</td>\n",
       "      <td>2</td>\n",
       "      <td>3</td>\n",
       "      <td>2</td>\n",
       "      <td>38</td>\n",
       "      <td>0</td>\n",
       "      <td>0</td>\n",
       "      <td>0</td>\n",
       "      <td>0</td>\n",
       "      <td>-1</td>\n",
       "      <td>...</td>\n",
       "      <td>44508.0</td>\n",
       "      <td>67484.0</td>\n",
       "      <td>500.0</td>\n",
       "      <td>7391.0</td>\n",
       "      <td>10000.0</td>\n",
       "      <td>6000.0</td>\n",
       "      <td>30000.0</td>\n",
       "      <td>500.0</td>\n",
       "      <td>7391.0</td>\n",
       "      <td>7000.0</td>\n",
       "    </tr>\n",
       "    <tr>\n",
       "      <th>7878</th>\n",
       "      <td>130000.0</td>\n",
       "      <td>1</td>\n",
       "      <td>2</td>\n",
       "      <td>2</td>\n",
       "      <td>29</td>\n",
       "      <td>0</td>\n",
       "      <td>0</td>\n",
       "      <td>0</td>\n",
       "      <td>0</td>\n",
       "      <td>0</td>\n",
       "      <td>...</td>\n",
       "      <td>130128.0</td>\n",
       "      <td>101794.0</td>\n",
       "      <td>101826.0</td>\n",
       "      <td>101763.0</td>\n",
       "      <td>6658.0</td>\n",
       "      <td>5146.0</td>\n",
       "      <td>4000.0</td>\n",
       "      <td>4000.0</td>\n",
       "      <td>3866.0</td>\n",
       "      <td>3435.0</td>\n",
       "    </tr>\n",
       "    <tr>\n",
       "      <th>8399</th>\n",
       "      <td>170000.0</td>\n",
       "      <td>1</td>\n",
       "      <td>1</td>\n",
       "      <td>1</td>\n",
       "      <td>38</td>\n",
       "      <td>-2</td>\n",
       "      <td>-2</td>\n",
       "      <td>-2</td>\n",
       "      <td>-2</td>\n",
       "      <td>-2</td>\n",
       "      <td>...</td>\n",
       "      <td>0.0</td>\n",
       "      <td>1012.0</td>\n",
       "      <td>0.0</td>\n",
       "      <td>0.0</td>\n",
       "      <td>0.0</td>\n",
       "      <td>0.0</td>\n",
       "      <td>1012.0</td>\n",
       "      <td>0.0</td>\n",
       "      <td>0.0</td>\n",
       "      <td>492.0</td>\n",
       "    </tr>\n",
       "  </tbody>\n",
       "</table>\n",
       "<p>5 rows × 23 columns</p>\n",
       "</div>"
      ],
      "text/plain": [
       "       LIMIT_BAL  SEX  EDUCATION  MARRIAGE  AGE  PAY_0  PAY_2  PAY_3  PAY_4  \\\n",
       "10858    40000.0    1          1         1   34     -1     -1     -1     -1   \n",
       "13742    90000.0    2          1         1   38     -1     -1      0      0   \n",
       "2296    300000.0    2          3         2   38      0      0      0      0   \n",
       "7878    130000.0    1          2         2   29      0      0      0      0   \n",
       "8399    170000.0    1          1         1   38     -2     -2     -2     -2   \n",
       "\n",
       "       PAY_5  ...  BILL_AMT3  BILL_AMT4  BILL_AMT5  BILL_AMT6  PAY_AMT1  \\\n",
       "10858     -1  ...     8374.0     7505.0     7515.0     9120.0    7419.0   \n",
       "13742     -1  ...    16360.0    41936.0      538.0     2716.0   15271.0   \n",
       "2296      -1  ...    44508.0    67484.0      500.0     7391.0   10000.0   \n",
       "7878       0  ...   130128.0   101794.0   101826.0   101763.0    6658.0   \n",
       "8399      -2  ...        0.0     1012.0        0.0        0.0       0.0   \n",
       "\n",
       "       PAY_AMT2  PAY_AMT3  PAY_AMT4  PAY_AMT5  PAY_AMT6  \n",
       "10858    8382.0    7505.0    7515.0    9120.0    6180.0  \n",
       "13742    2000.0   30000.0     538.0    2716.0     652.0  \n",
       "2296     6000.0   30000.0     500.0    7391.0    7000.0  \n",
       "7878     5146.0    4000.0    4000.0    3866.0    3435.0  \n",
       "8399        0.0    1012.0       0.0       0.0     492.0  \n",
       "\n",
       "[5 rows x 23 columns]"
      ]
     },
     "execution_count": 5,
     "metadata": {},
     "output_type": "execute_result"
    }
   ],
   "source": [
    "file_path = root_path + 'lending_data.csv'\n",
    "df = pd.read_csv(file_path)\n",
    "\n",
    "df = df.drop('ID', axis = 1)\n",
    "\n",
    "train_set, test_set = train_test_split(df, test_size = 0.2, random_state = seed)\n",
    "\n",
    "train_set_staged = train_set.sample(frac=0.2)\n",
    "\n",
    "X_train = train_set_staged.drop([target_col], axis = 'columns')\n",
    "y_train = train_set_staged[target_col]\n",
    "\n",
    "X_test = test_set.drop([target_col], axis = 1)\n",
    "y_test = test_set[target_col]\n",
    "\n",
    "X_train.head()"
   ]
  },
  {
   "cell_type": "code",
   "execution_count": 6,
   "metadata": {},
   "outputs": [],
   "source": [
    "# Definição dos modelos e dos seus respectivos hiper-parâmetros para busca em grid\n",
    "models_and_params = [\n",
    "    (\n",
    "        'ann',\n",
    "        Pipeline(steps=[\n",
    "            ('scaler', MinMaxScaler()),\n",
    "            ('Classifier', MLPClassifier(solver = 'lbfgs',  random_state = seed, max_iter = 1000))\n",
    "        ]),\n",
    "        {\n",
    "          \"Classifier__hidden_layer_sizes\": [(20,), (20,10), (20, 10, 2)],\n",
    "          'Classifier__learning_rate_init':[0.0001, 0.001, 0.01, 0.1]\n",
    "        }\n",
    "    ),\n",
    "    (\n",
    "        'random_forest',\n",
    "        RandomForestClassifier(random_state = seed,  class_weight = 'balanced'),\n",
    "        {\n",
    "            'n_estimators':[10, 100, 300, 1000]\n",
    "        }\n",
    "    ),\n",
    "    (\n",
    "        'decision_tree',\n",
    "        tree.DecisionTreeClassifier(random_state = seed,  class_weight = 'balanced'),\n",
    "        {\n",
    "            'max_depth':[3, 6],\n",
    "            'min_samples_split': [2, 4, 10]\n",
    "        }\n",
    "    ),\n",
    "    (\n",
    "        'svm',\n",
    "        Pipeline(steps=[\n",
    "            ('scaler', MinMaxScaler()),\n",
    "            ('Classifier', SVC(random_state = seed, class_weight = 'balanced', gamma = 'scale', probability = True, verbose = True))\n",
    "        ]),\n",
    "        {\n",
    "          \"Classifier__C\": [0.1, 1, 10],\n",
    "          \"Classifier__kernel\": [\"linear\",\"rbf\"]\n",
    "        }\n",
    "    ),\n",
    "    (\n",
    "        'knn',\n",
    "        Pipeline(steps=[\n",
    "            ('scaler', MinMaxScaler()),\n",
    "            ('Classifier', KNeighborsClassifier())\n",
    "        ]),\n",
    "        {\n",
    "          \"Classifier__n_neighbors\": [1,10,100],\n",
    "        }\n",
    "    ),\n",
    "    (\n",
    "        'lr',\n",
    "        Pipeline(steps=[\n",
    "            ('scaler', MinMaxScaler()),\n",
    "            ('Classifier', LogisticRegression(max_iter = 500, solver = 'lbfgs', random_state = seed, class_weight = 'balanced'))\n",
    "        ]),\n",
    "        {\n",
    "          \"Classifier__C\": [0.001, 0.01, 0.1, 1, 10, 100]\n",
    "        }\n",
    "    )\n",
    "]"
   ]
  },
  {
   "cell_type": "code",
   "execution_count": 7,
   "metadata": {},
   "outputs": [
    {
     "name": "stdout",
     "output_type": "stream",
     "text": [
      "Currently assessing ann\n"
     ]
    },
    {
     "name": "stderr",
     "output_type": "stream",
     "text": [
      "c:\\Users\\a79918\\AppData\\Local\\miniconda3\\envs\\OML_rumos_bank\\Lib\\site-packages\\sklearn\\neural_network\\_multilayer_perceptron.py:546: ConvergenceWarning: lbfgs failed to converge (status=1):\n",
      "STOP: TOTAL NO. OF ITERATIONS REACHED LIMIT.\n",
      "\n",
      "Increase the number of iterations (max_iter) or scale the data as shown in:\n",
      "    https://scikit-learn.org/stable/modules/preprocessing.html\n",
      "  self.n_iter_ = _check_optimize_result(\"lbfgs\", opt_res, self.max_iter)\n",
      "c:\\Users\\a79918\\AppData\\Local\\miniconda3\\envs\\OML_rumos_bank\\Lib\\site-packages\\mlflow\\types\\utils.py:452: UserWarning: Hint: Inferred schema contains integer column(s). Integer columns in Python cannot represent missing values. If your input data contains missing values at inference time, it will be encoded as floats and will cause a schema enforcement error. The best way to avoid this problem is to infer the model schema based on a realistic data sample (training dataset) that includes missing values. Alternatively, you can declare integer columns as doubles (float64) whenever these columns may have missing values. See `Handling Integers With Missing Values <https://www.mlflow.org/docs/latest/models.html#handling-integers-with-missing-values>`_ for more details.\n",
      "  warnings.warn(\n",
      "c:\\Users\\a79918\\AppData\\Local\\miniconda3\\envs\\OML_rumos_bank\\Lib\\site-packages\\mlflow\\types\\utils.py:452: UserWarning: Hint: Inferred schema contains integer column(s). Integer columns in Python cannot represent missing values. If your input data contains missing values at inference time, it will be encoded as floats and will cause a schema enforcement error. The best way to avoid this problem is to infer the model schema based on a realistic data sample (training dataset) that includes missing values. Alternatively, you can declare integer columns as doubles (float64) whenever these columns may have missing values. See `Handling Integers With Missing Values <https://www.mlflow.org/docs/latest/models.html#handling-integers-with-missing-values>`_ for more details.\n",
      "  warnings.warn(\n",
      "Successfully registered model 'ann'.\n",
      "2025/04/06 18:38:11 INFO mlflow.store.model_registry.abstract_store: Waiting up to 300 seconds for model version to finish creation. Model name: ann, version 1\n",
      "Created version '1' of model 'ann'.\n"
     ]
    },
    {
     "name": "stdout",
     "output_type": "stream",
     "text": [
      "✅ Model ann completed with best score: 0.8119\n",
      "🏃 View run ann at: http://127.0.0.1:5000/#/experiments/851929301218985109/runs/e8195474cab34731b27335fbb13ef972\n",
      "🧪 View experiment at: http://127.0.0.1:5000/#/experiments/851929301218985109\n",
      "Currently assessing random_forest\n"
     ]
    },
    {
     "name": "stderr",
     "output_type": "stream",
     "text": [
      "c:\\Users\\a79918\\AppData\\Local\\miniconda3\\envs\\OML_rumos_bank\\Lib\\site-packages\\mlflow\\types\\utils.py:452: UserWarning: Hint: Inferred schema contains integer column(s). Integer columns in Python cannot represent missing values. If your input data contains missing values at inference time, it will be encoded as floats and will cause a schema enforcement error. The best way to avoid this problem is to infer the model schema based on a realistic data sample (training dataset) that includes missing values. Alternatively, you can declare integer columns as doubles (float64) whenever these columns may have missing values. See `Handling Integers With Missing Values <https://www.mlflow.org/docs/latest/models.html#handling-integers-with-missing-values>`_ for more details.\n",
      "  warnings.warn(\n",
      "c:\\Users\\a79918\\AppData\\Local\\miniconda3\\envs\\OML_rumos_bank\\Lib\\site-packages\\mlflow\\types\\utils.py:452: UserWarning: Hint: Inferred schema contains integer column(s). Integer columns in Python cannot represent missing values. If your input data contains missing values at inference time, it will be encoded as floats and will cause a schema enforcement error. The best way to avoid this problem is to infer the model schema based on a realistic data sample (training dataset) that includes missing values. Alternatively, you can declare integer columns as doubles (float64) whenever these columns may have missing values. See `Handling Integers With Missing Values <https://www.mlflow.org/docs/latest/models.html#handling-integers-with-missing-values>`_ for more details.\n",
      "  warnings.warn(\n",
      "Successfully registered model 'random_forest'.\n",
      "2025/04/06 18:39:56 INFO mlflow.store.model_registry.abstract_store: Waiting up to 300 seconds for model version to finish creation. Model name: random_forest, version 1\n",
      "Created version '1' of model 'random_forest'.\n"
     ]
    },
    {
     "name": "stdout",
     "output_type": "stream",
     "text": [
      "✅ Model random_forest completed with best score: 0.8181\n",
      "🏃 View run random_forest at: http://127.0.0.1:5000/#/experiments/851929301218985109/runs/ae9f7f221b5248558dd51f6f2121a315\n",
      "🧪 View experiment at: http://127.0.0.1:5000/#/experiments/851929301218985109\n",
      "Currently assessing decision_tree\n"
     ]
    },
    {
     "name": "stderr",
     "output_type": "stream",
     "text": [
      "c:\\Users\\a79918\\AppData\\Local\\miniconda3\\envs\\OML_rumos_bank\\Lib\\site-packages\\mlflow\\types\\utils.py:452: UserWarning: Hint: Inferred schema contains integer column(s). Integer columns in Python cannot represent missing values. If your input data contains missing values at inference time, it will be encoded as floats and will cause a schema enforcement error. The best way to avoid this problem is to infer the model schema based on a realistic data sample (training dataset) that includes missing values. Alternatively, you can declare integer columns as doubles (float64) whenever these columns may have missing values. See `Handling Integers With Missing Values <https://www.mlflow.org/docs/latest/models.html#handling-integers-with-missing-values>`_ for more details.\n",
      "  warnings.warn(\n",
      "c:\\Users\\a79918\\AppData\\Local\\miniconda3\\envs\\OML_rumos_bank\\Lib\\site-packages\\mlflow\\types\\utils.py:452: UserWarning: Hint: Inferred schema contains integer column(s). Integer columns in Python cannot represent missing values. If your input data contains missing values at inference time, it will be encoded as floats and will cause a schema enforcement error. The best way to avoid this problem is to infer the model schema based on a realistic data sample (training dataset) that includes missing values. Alternatively, you can declare integer columns as doubles (float64) whenever these columns may have missing values. See `Handling Integers With Missing Values <https://www.mlflow.org/docs/latest/models.html#handling-integers-with-missing-values>`_ for more details.\n",
      "  warnings.warn(\n",
      "Successfully registered model 'decision_tree'.\n",
      "2025/04/06 18:40:15 INFO mlflow.store.model_registry.abstract_store: Waiting up to 300 seconds for model version to finish creation. Model name: decision_tree, version 1\n",
      "Created version '1' of model 'decision_tree'.\n"
     ]
    },
    {
     "name": "stdout",
     "output_type": "stream",
     "text": [
      "✅ Model decision_tree completed with best score: 0.7504\n",
      "🏃 View run decision_tree at: http://127.0.0.1:5000/#/experiments/851929301218985109/runs/ee0dd96b03514a0aa2575c70ccfa9219\n",
      "🧪 View experiment at: http://127.0.0.1:5000/#/experiments/851929301218985109\n",
      "Currently assessing svm\n",
      "[LibSVM]"
     ]
    },
    {
     "name": "stderr",
     "output_type": "stream",
     "text": [
      "c:\\Users\\a79918\\AppData\\Local\\miniconda3\\envs\\OML_rumos_bank\\Lib\\site-packages\\mlflow\\types\\utils.py:452: UserWarning: Hint: Inferred schema contains integer column(s). Integer columns in Python cannot represent missing values. If your input data contains missing values at inference time, it will be encoded as floats and will cause a schema enforcement error. The best way to avoid this problem is to infer the model schema based on a realistic data sample (training dataset) that includes missing values. Alternatively, you can declare integer columns as doubles (float64) whenever these columns may have missing values. See `Handling Integers With Missing Values <https://www.mlflow.org/docs/latest/models.html#handling-integers-with-missing-values>`_ for more details.\n",
      "  warnings.warn(\n",
      "c:\\Users\\a79918\\AppData\\Local\\miniconda3\\envs\\OML_rumos_bank\\Lib\\site-packages\\mlflow\\types\\utils.py:452: UserWarning: Hint: Inferred schema contains integer column(s). Integer columns in Python cannot represent missing values. If your input data contains missing values at inference time, it will be encoded as floats and will cause a schema enforcement error. The best way to avoid this problem is to infer the model schema based on a realistic data sample (training dataset) that includes missing values. Alternatively, you can declare integer columns as doubles (float64) whenever these columns may have missing values. See `Handling Integers With Missing Values <https://www.mlflow.org/docs/latest/models.html#handling-integers-with-missing-values>`_ for more details.\n",
      "  warnings.warn(\n",
      "Successfully registered model 'svm'.\n",
      "2025/04/06 18:43:23 INFO mlflow.store.model_registry.abstract_store: Waiting up to 300 seconds for model version to finish creation. Model name: svm, version 1\n",
      "Created version '1' of model 'svm'.\n"
     ]
    },
    {
     "name": "stdout",
     "output_type": "stream",
     "text": [
      "✅ Model svm completed with best score: 0.8087\n",
      "🏃 View run svm at: http://127.0.0.1:5000/#/experiments/851929301218985109/runs/4fb1f7ac17534ff284b8eb826cc7019c\n",
      "🧪 View experiment at: http://127.0.0.1:5000/#/experiments/851929301218985109\n",
      "Currently assessing knn\n"
     ]
    },
    {
     "name": "stderr",
     "output_type": "stream",
     "text": [
      "c:\\Users\\a79918\\AppData\\Local\\miniconda3\\envs\\OML_rumos_bank\\Lib\\site-packages\\mlflow\\types\\utils.py:452: UserWarning: Hint: Inferred schema contains integer column(s). Integer columns in Python cannot represent missing values. If your input data contains missing values at inference time, it will be encoded as floats and will cause a schema enforcement error. The best way to avoid this problem is to infer the model schema based on a realistic data sample (training dataset) that includes missing values. Alternatively, you can declare integer columns as doubles (float64) whenever these columns may have missing values. See `Handling Integers With Missing Values <https://www.mlflow.org/docs/latest/models.html#handling-integers-with-missing-values>`_ for more details.\n",
      "  warnings.warn(\n",
      "c:\\Users\\a79918\\AppData\\Local\\miniconda3\\envs\\OML_rumos_bank\\Lib\\site-packages\\mlflow\\types\\utils.py:452: UserWarning: Hint: Inferred schema contains integer column(s). Integer columns in Python cannot represent missing values. If your input data contains missing values at inference time, it will be encoded as floats and will cause a schema enforcement error. The best way to avoid this problem is to infer the model schema based on a realistic data sample (training dataset) that includes missing values. Alternatively, you can declare integer columns as doubles (float64) whenever these columns may have missing values. See `Handling Integers With Missing Values <https://www.mlflow.org/docs/latest/models.html#handling-integers-with-missing-values>`_ for more details.\n",
      "  warnings.warn(\n",
      "Successfully registered model 'knn'.\n",
      "2025/04/06 18:43:40 INFO mlflow.store.model_registry.abstract_store: Waiting up to 300 seconds for model version to finish creation. Model name: knn, version 1\n",
      "Created version '1' of model 'knn'.\n"
     ]
    },
    {
     "name": "stdout",
     "output_type": "stream",
     "text": [
      "✅ Model knn completed with best score: 0.8081\n",
      "🏃 View run knn at: http://127.0.0.1:5000/#/experiments/851929301218985109/runs/c533f7cde41142f680fb198f90849c05\n",
      "🧪 View experiment at: http://127.0.0.1:5000/#/experiments/851929301218985109\n",
      "Currently assessing lr\n"
     ]
    },
    {
     "name": "stderr",
     "output_type": "stream",
     "text": [
      "c:\\Users\\a79918\\AppData\\Local\\miniconda3\\envs\\OML_rumos_bank\\Lib\\site-packages\\mlflow\\types\\utils.py:452: UserWarning: Hint: Inferred schema contains integer column(s). Integer columns in Python cannot represent missing values. If your input data contains missing values at inference time, it will be encoded as floats and will cause a schema enforcement error. The best way to avoid this problem is to infer the model schema based on a realistic data sample (training dataset) that includes missing values. Alternatively, you can declare integer columns as doubles (float64) whenever these columns may have missing values. See `Handling Integers With Missing Values <https://www.mlflow.org/docs/latest/models.html#handling-integers-with-missing-values>`_ for more details.\n",
      "  warnings.warn(\n",
      "c:\\Users\\a79918\\AppData\\Local\\miniconda3\\envs\\OML_rumos_bank\\Lib\\site-packages\\mlflow\\types\\utils.py:452: UserWarning: Hint: Inferred schema contains integer column(s). Integer columns in Python cannot represent missing values. If your input data contains missing values at inference time, it will be encoded as floats and will cause a schema enforcement error. The best way to avoid this problem is to infer the model schema based on a realistic data sample (training dataset) that includes missing values. Alternatively, you can declare integer columns as doubles (float64) whenever these columns may have missing values. See `Handling Integers With Missing Values <https://www.mlflow.org/docs/latest/models.html#handling-integers-with-missing-values>`_ for more details.\n",
      "  warnings.warn(\n",
      "Successfully registered model 'lr'.\n",
      "2025/04/06 18:43:53 INFO mlflow.store.model_registry.abstract_store: Waiting up to 300 seconds for model version to finish creation. Model name: lr, version 1\n",
      "Created version '1' of model 'lr'.\n"
     ]
    },
    {
     "name": "stdout",
     "output_type": "stream",
     "text": [
      "✅ Model lr completed with best score: 0.7042\n",
      "🏃 View run lr at: http://127.0.0.1:5000/#/experiments/851929301218985109/runs/878fff7d043847e099d38e2264cd3fe5\n",
      "🧪 View experiment at: http://127.0.0.1:5000/#/experiments/851929301218985109\n",
      "🎯 All models have been evaluated and logged in MLflow!\n"
     ]
    }
   ],
   "source": [
    "for model_str, clf, params in models_and_params:\n",
    "    print(f\"Currently assessing {model_str}\")\n",
    "    \n",
    "        # Inicia a run\n",
    "    with mlflow.start_run(run_name=model_str):\n",
    "\n",
    "        \n",
    "        # 1️⃣ Executar Grid Search\n",
    "        grid_search = GridSearchCV(clf, params, cv=5, n_jobs=-1)\n",
    "        grid_search.fit(X_train, y_train)\n",
    "\n",
    "        # 2️⃣ Obter os melhores parâmetros e o melhor score\n",
    "        best_params = grid_search.best_params_\n",
    "        best_score = grid_search.best_score_\n",
    "\n",
    "        # 3️⃣ Registrar os hiperparâmetros e a métrica no MLflow\n",
    "        mlflow.log_params(best_params)\n",
    "        mlflow.log_metric(\"best_cv_score\", best_score)\n",
    "\n",
    "        # 4️⃣ Salvar o modelo treinado no MLflow\n",
    "        mlflow.sklearn.log_model(grid_search.best_estimator_, artifact_path=\"sklearn-model\", input_example=X_train, registered_model_name=model_str)\n",
    "\n",
    "        # 5️⃣ Fazer predições no conjunto de teste\n",
    "        y_preds = grid_search.best_estimator_.predict(X_test)\n",
    "\n",
    "        # 6️⃣ Calcular métricas adicionais\n",
    "        acc = accuracy_score(y_test, y_preds)\n",
    "        mlflow.log_metric(\"accuracy\", acc)\n",
    "\n",
    "        print(f\"✅ Model {model_str} completed with best score: {best_score:.4f}\")\n",
    "\n",
    "\n",
    "print(\"🎯 All models have been evaluated and logged in MLflow!\")"
   ]
  },
  {
   "cell_type": "code",
   "execution_count": null,
   "metadata": {},
   "outputs": [],
   "source": []
  }
 ],
 "metadata": {
  "kernelspec": {
   "display_name": "Python 3",
   "language": "python",
   "name": "python3"
  },
  "language_info": {
   "codemirror_mode": {
    "name": "ipython",
    "version": 3
   },
   "file_extension": ".py",
   "mimetype": "text/x-python",
   "name": "python",
   "nbconvert_exporter": "python",
   "pygments_lexer": "ipython3",
   "version": "3.12.3"
  }
 },
 "nbformat": 4,
 "nbformat_minor": 2
}
